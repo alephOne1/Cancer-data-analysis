{
 "cells": [
  {
   "cell_type": "markdown",
   "metadata": {},
   "source": [
    "Импорт модулей и инициализация визуализатора matplotlib."
   ]
  },
  {
   "cell_type": "code",
   "execution_count": 1,
   "metadata": {},
   "outputs": [],
   "source": [
    "import numpy as np\n",
    "import pandas as pd\n",
    "import sklearn\n",
    "import matplotlib.pyplot as plt\n",
    "%matplotlib inline"
   ]
  },
  {
   "cell_type": "markdown",
   "metadata": {},
   "source": [
    "Объявление констант."
   ]
  },
  {
   "cell_type": "code",
   "execution_count": 2,
   "metadata": {},
   "outputs": [],
   "source": [
    "URL_TO_DATA = \"https://archive.ics.uci.edu/ml/machine-learning-databases/breast-cancer-wisconsin/breast-cancer-wisconsin.data\"\n",
    "DATA_DELIMITER = \",\"\n",
    "NA_VALUE = \"?\"\n",
    "COLUMNS_NAMES = [\n",
    "    \"Sample code number\",\n",
    "    \"Clump Thickness\",\n",
    "    \"Uniformity of Cell Size\",\n",
    "    \"Uniformity of Cell Shape\",\n",
    "    \"Marginal Adhesion\",\n",
    "    \"Single Epithelial Cell Size\",\n",
    "    \"Bare Nuclei\",\n",
    "    \"Bland Chromatin\",\n",
    "    \"Normal Nucleoli\",\n",
    "    \"Mitoses\",\n",
    "    \"Class\"\n",
    "]"
   ]
  },
  {
   "cell_type": "markdown",
   "metadata": {},
   "source": [
    "Сбор данных с .data файла с удаленного сервера."
   ]
  },
  {
   "cell_type": "code",
   "execution_count": 3,
   "metadata": {},
   "outputs": [],
   "source": [
    "df = pd.read_csv(\n",
    "    URL_TO_DATA,\n",
    "    header=None,\n",
    "    delimiter=DATA_DELIMITER,\n",
    "    names=COLUMNS_NAMES,\n",
    "    index_col=COLUMNS_NAMES[0],\n",
    "    na_values=NA_VALUE,\n",
    "    dtype={column: \"object\" for column in COLUMNS_NAMES[1:]}\n",
    ")"
   ]
  },
  {
   "cell_type": "markdown",
   "metadata": {},
   "source": [
    "Вывод первых строк таблицы на экран."
   ]
  },
  {
   "cell_type": "code",
   "execution_count": 4,
   "metadata": {},
   "outputs": [
    {
     "data": {
      "text/html": [
       "<div>\n",
       "<style scoped>\n",
       "    .dataframe tbody tr th:only-of-type {\n",
       "        vertical-align: middle;\n",
       "    }\n",
       "\n",
       "    .dataframe tbody tr th {\n",
       "        vertical-align: top;\n",
       "    }\n",
       "\n",
       "    .dataframe thead th {\n",
       "        text-align: right;\n",
       "    }\n",
       "</style>\n",
       "<table border=\"1\" class=\"dataframe\">\n",
       "  <thead>\n",
       "    <tr style=\"text-align: right;\">\n",
       "      <th></th>\n",
       "      <th>Clump Thickness</th>\n",
       "      <th>Uniformity of Cell Size</th>\n",
       "      <th>Uniformity of Cell Shape</th>\n",
       "      <th>Marginal Adhesion</th>\n",
       "      <th>Single Epithelial Cell Size</th>\n",
       "      <th>Bare Nuclei</th>\n",
       "      <th>Bland Chromatin</th>\n",
       "      <th>Normal Nucleoli</th>\n",
       "      <th>Mitoses</th>\n",
       "      <th>Class</th>\n",
       "    </tr>\n",
       "    <tr>\n",
       "      <th>Sample code number</th>\n",
       "      <th></th>\n",
       "      <th></th>\n",
       "      <th></th>\n",
       "      <th></th>\n",
       "      <th></th>\n",
       "      <th></th>\n",
       "      <th></th>\n",
       "      <th></th>\n",
       "      <th></th>\n",
       "      <th></th>\n",
       "    </tr>\n",
       "  </thead>\n",
       "  <tbody>\n",
       "    <tr>\n",
       "      <th>1000025</th>\n",
       "      <td>5</td>\n",
       "      <td>1</td>\n",
       "      <td>1</td>\n",
       "      <td>1</td>\n",
       "      <td>2</td>\n",
       "      <td>1</td>\n",
       "      <td>3</td>\n",
       "      <td>1</td>\n",
       "      <td>1</td>\n",
       "      <td>2</td>\n",
       "    </tr>\n",
       "    <tr>\n",
       "      <th>1002945</th>\n",
       "      <td>5</td>\n",
       "      <td>4</td>\n",
       "      <td>4</td>\n",
       "      <td>5</td>\n",
       "      <td>7</td>\n",
       "      <td>10</td>\n",
       "      <td>3</td>\n",
       "      <td>2</td>\n",
       "      <td>1</td>\n",
       "      <td>2</td>\n",
       "    </tr>\n",
       "    <tr>\n",
       "      <th>1015425</th>\n",
       "      <td>3</td>\n",
       "      <td>1</td>\n",
       "      <td>1</td>\n",
       "      <td>1</td>\n",
       "      <td>2</td>\n",
       "      <td>2</td>\n",
       "      <td>3</td>\n",
       "      <td>1</td>\n",
       "      <td>1</td>\n",
       "      <td>2</td>\n",
       "    </tr>\n",
       "    <tr>\n",
       "      <th>1016277</th>\n",
       "      <td>6</td>\n",
       "      <td>8</td>\n",
       "      <td>8</td>\n",
       "      <td>1</td>\n",
       "      <td>3</td>\n",
       "      <td>4</td>\n",
       "      <td>3</td>\n",
       "      <td>7</td>\n",
       "      <td>1</td>\n",
       "      <td>2</td>\n",
       "    </tr>\n",
       "    <tr>\n",
       "      <th>1017023</th>\n",
       "      <td>4</td>\n",
       "      <td>1</td>\n",
       "      <td>1</td>\n",
       "      <td>3</td>\n",
       "      <td>2</td>\n",
       "      <td>1</td>\n",
       "      <td>3</td>\n",
       "      <td>1</td>\n",
       "      <td>1</td>\n",
       "      <td>2</td>\n",
       "    </tr>\n",
       "  </tbody>\n",
       "</table>\n",
       "</div>"
      ],
      "text/plain": [
       "                   Clump Thickness Uniformity of Cell Size  \\\n",
       "Sample code number                                           \n",
       "1000025                          5                       1   \n",
       "1002945                          5                       4   \n",
       "1015425                          3                       1   \n",
       "1016277                          6                       8   \n",
       "1017023                          4                       1   \n",
       "\n",
       "                   Uniformity of Cell Shape Marginal Adhesion  \\\n",
       "Sample code number                                              \n",
       "1000025                                   1                 1   \n",
       "1002945                                   4                 5   \n",
       "1015425                                   1                 1   \n",
       "1016277                                   8                 1   \n",
       "1017023                                   1                 3   \n",
       "\n",
       "                   Single Epithelial Cell Size Bare Nuclei Bland Chromatin  \\\n",
       "Sample code number                                                           \n",
       "1000025                                      2           1               3   \n",
       "1002945                                      7          10               3   \n",
       "1015425                                      2           2               3   \n",
       "1016277                                      3           4               3   \n",
       "1017023                                      2           1               3   \n",
       "\n",
       "                   Normal Nucleoli Mitoses Class  \n",
       "Sample code number                                \n",
       "1000025                          1       1     2  \n",
       "1002945                          2       1     2  \n",
       "1015425                          1       1     2  \n",
       "1016277                          7       1     2  \n",
       "1017023                          1       1     2  "
      ]
     },
     "execution_count": 4,
     "metadata": {},
     "output_type": "execute_result"
    }
   ],
   "source": [
    "df.head()"
   ]
  },
  {
   "cell_type": "markdown",
   "metadata": {},
   "source": [
    "Выведение базовой статистической информации по таблице (описание категориальное, т.к. все признаки в наборе данных категориальные)."
   ]
  },
  {
   "cell_type": "code",
   "execution_count": 5,
   "metadata": {},
   "outputs": [
    {
     "data": {
      "text/html": [
       "<div>\n",
       "<style scoped>\n",
       "    .dataframe tbody tr th:only-of-type {\n",
       "        vertical-align: middle;\n",
       "    }\n",
       "\n",
       "    .dataframe tbody tr th {\n",
       "        vertical-align: top;\n",
       "    }\n",
       "\n",
       "    .dataframe thead th {\n",
       "        text-align: right;\n",
       "    }\n",
       "</style>\n",
       "<table border=\"1\" class=\"dataframe\">\n",
       "  <thead>\n",
       "    <tr style=\"text-align: right;\">\n",
       "      <th></th>\n",
       "      <th>Clump Thickness</th>\n",
       "      <th>Uniformity of Cell Size</th>\n",
       "      <th>Uniformity of Cell Shape</th>\n",
       "      <th>Marginal Adhesion</th>\n",
       "      <th>Single Epithelial Cell Size</th>\n",
       "      <th>Bare Nuclei</th>\n",
       "      <th>Bland Chromatin</th>\n",
       "      <th>Normal Nucleoli</th>\n",
       "      <th>Mitoses</th>\n",
       "      <th>Class</th>\n",
       "    </tr>\n",
       "  </thead>\n",
       "  <tbody>\n",
       "    <tr>\n",
       "      <th>count</th>\n",
       "      <td>699</td>\n",
       "      <td>699</td>\n",
       "      <td>699</td>\n",
       "      <td>699</td>\n",
       "      <td>699</td>\n",
       "      <td>683</td>\n",
       "      <td>699</td>\n",
       "      <td>699</td>\n",
       "      <td>699</td>\n",
       "      <td>699</td>\n",
       "    </tr>\n",
       "    <tr>\n",
       "      <th>unique</th>\n",
       "      <td>10</td>\n",
       "      <td>10</td>\n",
       "      <td>10</td>\n",
       "      <td>10</td>\n",
       "      <td>10</td>\n",
       "      <td>10</td>\n",
       "      <td>10</td>\n",
       "      <td>10</td>\n",
       "      <td>9</td>\n",
       "      <td>2</td>\n",
       "    </tr>\n",
       "    <tr>\n",
       "      <th>top</th>\n",
       "      <td>1</td>\n",
       "      <td>1</td>\n",
       "      <td>1</td>\n",
       "      <td>1</td>\n",
       "      <td>2</td>\n",
       "      <td>1</td>\n",
       "      <td>2</td>\n",
       "      <td>1</td>\n",
       "      <td>1</td>\n",
       "      <td>2</td>\n",
       "    </tr>\n",
       "    <tr>\n",
       "      <th>freq</th>\n",
       "      <td>145</td>\n",
       "      <td>384</td>\n",
       "      <td>353</td>\n",
       "      <td>407</td>\n",
       "      <td>386</td>\n",
       "      <td>402</td>\n",
       "      <td>166</td>\n",
       "      <td>443</td>\n",
       "      <td>579</td>\n",
       "      <td>458</td>\n",
       "    </tr>\n",
       "  </tbody>\n",
       "</table>\n",
       "</div>"
      ],
      "text/plain": [
       "       Clump Thickness Uniformity of Cell Size Uniformity of Cell Shape  \\\n",
       "count              699                     699                      699   \n",
       "unique              10                      10                       10   \n",
       "top                  1                       1                        1   \n",
       "freq               145                     384                      353   \n",
       "\n",
       "       Marginal Adhesion Single Epithelial Cell Size Bare Nuclei  \\\n",
       "count                699                         699         683   \n",
       "unique                10                          10          10   \n",
       "top                    1                           2           1   \n",
       "freq                 407                         386         402   \n",
       "\n",
       "       Bland Chromatin Normal Nucleoli Mitoses Class  \n",
       "count              699             699     699   699  \n",
       "unique              10              10       9     2  \n",
       "top                  2               1       1     2  \n",
       "freq               166             443     579   458  "
      ]
     },
     "execution_count": 5,
     "metadata": {},
     "output_type": "execute_result"
    }
   ],
   "source": [
    "data_describe = df.describe()\n",
    "data_describe"
   ]
  },
  {
   "cell_type": "markdown",
   "metadata": {},
   "source": [
    "Замена пропущенных значений каждого нецелевого признака на самое часто встречающееся значение в признаке (мода признака), т.к. все признаки являются категориальными, а удаление объектов с пропущенными значениями привело бы к существенному обеднению выборки."
   ]
  },
  {
   "cell_type": "code",
   "execution_count": 6,
   "metadata": {},
   "outputs": [],
   "source": [
    "for column in COLUMNS_NAMES[1:]:\n",
    "    top_value = df[column].describe()[\"top\"]\n",
    "    df[column] = df[column].fillna(top_value)"
   ]
  },
  {
   "cell_type": "markdown",
   "metadata": {},
   "source": [
    "Снова выводим базовую статистическую информацию по выборке, замечаем, что теперь кол-ва объектов со всеми признаками уравнялись: пропущенных значений более нет."
   ]
  },
  {
   "cell_type": "code",
   "execution_count": 7,
   "metadata": {},
   "outputs": [
    {
     "data": {
      "text/html": [
       "<div>\n",
       "<style scoped>\n",
       "    .dataframe tbody tr th:only-of-type {\n",
       "        vertical-align: middle;\n",
       "    }\n",
       "\n",
       "    .dataframe tbody tr th {\n",
       "        vertical-align: top;\n",
       "    }\n",
       "\n",
       "    .dataframe thead th {\n",
       "        text-align: right;\n",
       "    }\n",
       "</style>\n",
       "<table border=\"1\" class=\"dataframe\">\n",
       "  <thead>\n",
       "    <tr style=\"text-align: right;\">\n",
       "      <th></th>\n",
       "      <th>Clump Thickness</th>\n",
       "      <th>Uniformity of Cell Size</th>\n",
       "      <th>Uniformity of Cell Shape</th>\n",
       "      <th>Marginal Adhesion</th>\n",
       "      <th>Single Epithelial Cell Size</th>\n",
       "      <th>Bare Nuclei</th>\n",
       "      <th>Bland Chromatin</th>\n",
       "      <th>Normal Nucleoli</th>\n",
       "      <th>Mitoses</th>\n",
       "      <th>Class</th>\n",
       "    </tr>\n",
       "  </thead>\n",
       "  <tbody>\n",
       "    <tr>\n",
       "      <th>count</th>\n",
       "      <td>699</td>\n",
       "      <td>699</td>\n",
       "      <td>699</td>\n",
       "      <td>699</td>\n",
       "      <td>699</td>\n",
       "      <td>699</td>\n",
       "      <td>699</td>\n",
       "      <td>699</td>\n",
       "      <td>699</td>\n",
       "      <td>699</td>\n",
       "    </tr>\n",
       "    <tr>\n",
       "      <th>unique</th>\n",
       "      <td>10</td>\n",
       "      <td>10</td>\n",
       "      <td>10</td>\n",
       "      <td>10</td>\n",
       "      <td>10</td>\n",
       "      <td>10</td>\n",
       "      <td>10</td>\n",
       "      <td>10</td>\n",
       "      <td>9</td>\n",
       "      <td>2</td>\n",
       "    </tr>\n",
       "    <tr>\n",
       "      <th>top</th>\n",
       "      <td>1</td>\n",
       "      <td>1</td>\n",
       "      <td>1</td>\n",
       "      <td>1</td>\n",
       "      <td>2</td>\n",
       "      <td>1</td>\n",
       "      <td>2</td>\n",
       "      <td>1</td>\n",
       "      <td>1</td>\n",
       "      <td>2</td>\n",
       "    </tr>\n",
       "    <tr>\n",
       "      <th>freq</th>\n",
       "      <td>145</td>\n",
       "      <td>384</td>\n",
       "      <td>353</td>\n",
       "      <td>407</td>\n",
       "      <td>386</td>\n",
       "      <td>418</td>\n",
       "      <td>166</td>\n",
       "      <td>443</td>\n",
       "      <td>579</td>\n",
       "      <td>458</td>\n",
       "    </tr>\n",
       "  </tbody>\n",
       "</table>\n",
       "</div>"
      ],
      "text/plain": [
       "       Clump Thickness Uniformity of Cell Size Uniformity of Cell Shape  \\\n",
       "count              699                     699                      699   \n",
       "unique              10                      10                       10   \n",
       "top                  1                       1                        1   \n",
       "freq               145                     384                      353   \n",
       "\n",
       "       Marginal Adhesion Single Epithelial Cell Size Bare Nuclei  \\\n",
       "count                699                         699         699   \n",
       "unique                10                          10          10   \n",
       "top                    1                           2           1   \n",
       "freq                 407                         386         418   \n",
       "\n",
       "       Bland Chromatin Normal Nucleoli Mitoses Class  \n",
       "count              699             699     699   699  \n",
       "unique              10              10       9     2  \n",
       "top                  2               1       1     2  \n",
       "freq               166             443     579   458  "
      ]
     },
     "execution_count": 7,
     "metadata": {},
     "output_type": "execute_result"
    }
   ],
   "source": [
    "df.describe()"
   ]
  },
  {
   "cell_type": "markdown",
   "metadata": {},
   "source": [
    "Строим количественные гистограммы по каждому признаку и сохраняем их в .png формате в директории plots, расположенной в той же директории, что и данный .ipynb файл."
   ]
  },
  {
   "cell_type": "code",
   "execution_count": 8,
   "metadata": {},
   "outputs": [
    {
     "data": {
      "image/png": "[encoded data removed]",
      "text/plain": [
       "<matplotlib.figure.Figure at 0x7fa6830>"
      ]
     },
     "metadata": {},
     "output_type": "display_data"
    },
    {
     "data": {
      "image/png": "[encoded data removed]",
      "text/plain": [
       "<matplotlib.figure.Figure at 0x7f9c970>"
      ]
     },
     "metadata": {},
     "output_type": "display_data"
    },
    {
     "data": {
      "image/png": "[encoded data removed]",
      "text/plain": [
       "<matplotlib.figure.Figure at 0x834e750>"
      ]
     },
     "metadata": {},
     "output_type": "display_data"
    },
    {
     "data": {
      "image/png": "[encoded data removed]",
      "text/plain": [
       "<matplotlib.figure.Figure at 0x839a170>"
      ]
     },
     "metadata": {},
     "output_type": "display_data"
    },
    {
     "data": {
      "image/png": "[encoded data removed]",
      "text/plain": [
       "<matplotlib.figure.Figure at 0xae8de90>"
      ]
     },
     "metadata": {},
     "output_type": "display_data"
    },
    {
     "data": {
      "image/png": "[encoded data removed]",
      "text/plain": [
       "<matplotlib.figure.Figure at 0x830feb0>"
      ]
     },
     "metadata": {},
     "output_type": "display_data"
    },
    {
     "data": {
      "image/png": "[encoded data removed]",
      "text/plain": [
       "<matplotlib.figure.Figure at 0x82ffe50>"
      ]
     },
     "metadata": {},
     "output_type": "display_data"
    },
    {
     "data": {
      "image/png": "[encoded data removed]",
      "text/plain": [
       "<matplotlib.figure.Figure at 0xaefee30>"
      ]
     },
     "metadata": {},
     "output_type": "display_data"
    },
    {
     "data": {
      "image/png": "[encoded data removed]",
      "text/plain": [
       "<matplotlib.figure.Figure at 0xaf6a4f0>"
      ]
     },
     "metadata": {},
     "output_type": "display_data"
    },
    {
     "data": {
      "image/png": "[encoded data removed]",
      "text/plain": [
       "<matplotlib.figure.Figure at 0xafd45d0>"
      ]
     },
     "metadata": {},
     "output_type": "display_data"
    }
   ],
   "source": [
    "for column in COLUMNS_NAMES[1:]:\n",
    "    df_plot = df[column].value_counts().plot(kind=\"bar\", title=column)\n",
    "    plt.show()\n",
    "    fig = df_plot.get_figure()\n",
    "    fig.savefig(\"plots/\" + column.lower().replace(\" \", \"_\") + \".png\")\n"
   ]
  },
  {
   "cell_type": "markdown",
   "metadata": {},
   "source": [
    "Выделяем наименования банарных и небинарных признаков, для дальнейшей работы с ними. Выводим кол-во признаков каждого вида (бинарные и небинарные соответственно), замечаем, что бинарным признаком в данной выборке является только целевой (class)."
   ]
  },
  {
   "cell_type": "code",
   "execution_count": 9,
   "metadata": {},
   "outputs": [
    {
     "data": {
      "text/plain": [
       "(1, 9)"
      ]
     },
     "execution_count": 9,
     "metadata": {},
     "output_type": "execute_result"
    }
   ],
   "source": [
    "binary_columns = [column for column in COLUMNS_NAMES[1:] if data_describe[column][\"unique\"] == 2]\n",
    "nonbinary_columns = [column for column in COLUMNS_NAMES[1:] if data_describe[column][\"unique\"] > 2]\n",
    "len(binary_columns), len(nonbinary_columns)"
   ]
  },
  {
   "cell_type": "markdown",
   "metadata": {},
   "source": [
    "Проводим замену значений категориальных бинарных признаков на числовые (моде признака сопоставляем число 1, оставшемуся - 0) с помощью объявленной здесь же функции change_binary."
   ]
  },
  {
   "cell_type": "code",
   "execution_count": 10,
   "metadata": {},
   "outputs": [],
   "source": [
    "def change_binary(data, column_name, top_value):\n",
    "    for default_value in data[column_name].unique():\n",
    "        if default_value == top_value:\n",
    "            data.loc[data[column_name] == default_value, column_name] = 1\n",
    "        else:\n",
    "            data.loc[data[column_name] == default_value, column_name] = 0\n",
    "    return data[column_name]\n",
    "\n",
    "binary_values = {}\n",
    "for binary_column in binary_columns:\n",
    "    binary_column_description = df[binary_column].describe()\n",
    "    \n",
    "    binary_values[binary_column] = {}\n",
    "    binary_values[binary_column][\"top\"] = binary_column_description[\"top\"]\n",
    "    \n",
    "    df[binary_column] = change_binary(\n",
    "        df,\n",
    "        binary_column,\n",
    "        binary_values[binary_column][\"top\"]\n",
    "    )"
   ]
  },
  {
   "cell_type": "markdown",
   "metadata": {},
   "source": [
    "Выводим базовую статистическаю информацию по имеющемуся бинарному целевому признаку, замечаем, что замена прошла успешно."
   ]
  },
  {
   "cell_type": "code",
   "execution_count": 11,
   "metadata": {},
   "outputs": [
    {
     "data": {
      "text/plain": [
       "count     699\n",
       "unique      2\n",
       "top         1\n",
       "freq      458\n",
       "Name: Class, dtype: int64"
      ]
     },
     "execution_count": 11,
     "metadata": {},
     "output_type": "execute_result"
    }
   ],
   "source": [
    "df[\"Class\"].describe()"
   ]
  },
  {
   "cell_type": "markdown",
   "metadata": {},
   "source": [
    "Проводим векторизацию категориальных небинарных признаков: если имеется признак feature, имеющий значения value_1, value_2, ..., value_n,\n",
    "то заменяем этот признак на множество признаков feature_value_1, feature_value_2, ..., feature_value_n, которые принимают два значения: 1 или 0, указывающих на пренадлежность объекта тому или иному значению признака feature."
   ]
  },
  {
   "cell_type": "code",
   "execution_count": 12,
   "metadata": {},
   "outputs": [],
   "source": [
    "df_nonbinary = pd.get_dummies(df[nonbinary_columns])"
   ]
  },
  {
   "cell_type": "code",
   "execution_count": 13,
   "metadata": {},
   "outputs": [
    {
     "data": {
      "text/plain": [
       "(699, 89)"
      ]
     },
     "execution_count": 13,
     "metadata": {},
     "output_type": "execute_result"
    }
   ],
   "source": [
    "df_nonbinary.shape"
   ]
  },
  {
   "cell_type": "markdown",
   "metadata": {},
   "source": [
    "Соединяем все полученные части набора данных в один."
   ]
  },
  {
   "cell_type": "code",
   "execution_count": 14,
   "metadata": {},
   "outputs": [],
   "source": [
    "df = pd.concat((df_nonbinary, df[binary_columns]), axis=1)\n",
    "df = pd.DataFrame(df, dtype=\"float\")"
   ]
  },
  {
   "cell_type": "markdown",
   "metadata": {},
   "source": [
    "Выводим информацию по полученному набору данных: размерность (кол-во строк, кол-во столбцов), наименования колонок (полученные признаки), типы колонок (все числовые - float64)."
   ]
  },
  {
   "cell_type": "code",
   "execution_count": 15,
   "metadata": {},
   "outputs": [
    {
     "name": "stdout",
     "output_type": "stream",
     "text": [
      "(699, 90)\n",
      "\n",
      "Index(['Clump Thickness_1', 'Clump Thickness_10', 'Clump Thickness_2',\n",
      "       'Clump Thickness_3', 'Clump Thickness_4', 'Clump Thickness_5',\n",
      "       'Clump Thickness_6', 'Clump Thickness_7', 'Clump Thickness_8',\n",
      "       'Clump Thickness_9', 'Uniformity of Cell Size_1',\n",
      "       'Uniformity of Cell Size_10', 'Uniformity of Cell Size_2',\n",
      "       'Uniformity of Cell Size_3', 'Uniformity of Cell Size_4',\n",
      "       'Uniformity of Cell Size_5', 'Uniformity of Cell Size_6',\n",
      "       'Uniformity of Cell Size_7', 'Uniformity of Cell Size_8',\n",
      "       'Uniformity of Cell Size_9', 'Uniformity of Cell Shape_1',\n",
      "       'Uniformity of Cell Shape_10', 'Uniformity of Cell Shape_2',\n",
      "       'Uniformity of Cell Shape_3', 'Uniformity of Cell Shape_4',\n",
      "       'Uniformity of Cell Shape_5', 'Uniformity of Cell Shape_6',\n",
      "       'Uniformity of Cell Shape_7', 'Uniformity of Cell Shape_8',\n",
      "       'Uniformity of Cell Shape_9', 'Marginal Adhesion_1',\n",
      "       'Marginal Adhesion_10', 'Marginal Adhesion_2', 'Marginal Adhesion_3',\n",
      "       'Marginal Adhesion_4', 'Marginal Adhesion_5', 'Marginal Adhesion_6',\n",
      "       'Marginal Adhesion_7', 'Marginal Adhesion_8', 'Marginal Adhesion_9',\n",
      "       'Single Epithelial Cell Size_1', 'Single Epithelial Cell Size_10',\n",
      "       'Single Epithelial Cell Size_2', 'Single Epithelial Cell Size_3',\n",
      "       'Single Epithelial Cell Size_4', 'Single Epithelial Cell Size_5',\n",
      "       'Single Epithelial Cell Size_6', 'Single Epithelial Cell Size_7',\n",
      "       'Single Epithelial Cell Size_8', 'Single Epithelial Cell Size_9',\n",
      "       'Bare Nuclei_1', 'Bare Nuclei_10', 'Bare Nuclei_2', 'Bare Nuclei_3',\n",
      "       'Bare Nuclei_4', 'Bare Nuclei_5', 'Bare Nuclei_6', 'Bare Nuclei_7',\n",
      "       'Bare Nuclei_8', 'Bare Nuclei_9', 'Bland Chromatin_1',\n",
      "       'Bland Chromatin_10', 'Bland Chromatin_2', 'Bland Chromatin_3',\n",
      "       'Bland Chromatin_4', 'Bland Chromatin_5', 'Bland Chromatin_6',\n",
      "       'Bland Chromatin_7', 'Bland Chromatin_8', 'Bland Chromatin_9',\n",
      "       'Normal Nucleoli_1', 'Normal Nucleoli_10', 'Normal Nucleoli_2',\n",
      "       'Normal Nucleoli_3', 'Normal Nucleoli_4', 'Normal Nucleoli_5',\n",
      "       'Normal Nucleoli_6', 'Normal Nucleoli_7', 'Normal Nucleoli_8',\n",
      "       'Normal Nucleoli_9', 'Mitoses_1', 'Mitoses_10', 'Mitoses_2',\n",
      "       'Mitoses_3', 'Mitoses_4', 'Mitoses_5', 'Mitoses_6', 'Mitoses_7',\n",
      "       'Mitoses_8', 'Class'],\n",
      "      dtype='object')\n",
      "\n",
      "Clump Thickness_1              float64\n",
      "Clump Thickness_10             float64\n",
      "Clump Thickness_2              float64\n",
      "Clump Thickness_3              float64\n",
      "Clump Thickness_4              float64\n",
      "Clump Thickness_5              float64\n",
      "Clump Thickness_6              float64\n",
      "Clump Thickness_7              float64\n",
      "Clump Thickness_8              float64\n",
      "Clump Thickness_9              float64\n",
      "Uniformity of Cell Size_1      float64\n",
      "Uniformity of Cell Size_10     float64\n",
      "Uniformity of Cell Size_2      float64\n",
      "Uniformity of Cell Size_3      float64\n",
      "Uniformity of Cell Size_4      float64\n",
      "Uniformity of Cell Size_5      float64\n",
      "Uniformity of Cell Size_6      float64\n",
      "Uniformity of Cell Size_7      float64\n",
      "Uniformity of Cell Size_8      float64\n",
      "Uniformity of Cell Size_9      float64\n",
      "Uniformity of Cell Shape_1     float64\n",
      "Uniformity of Cell Shape_10    float64\n",
      "Uniformity of Cell Shape_2     float64\n",
      "Uniformity of Cell Shape_3     float64\n",
      "Uniformity of Cell Shape_4     float64\n",
      "Uniformity of Cell Shape_5     float64\n",
      "Uniformity of Cell Shape_6     float64\n",
      "Uniformity of Cell Shape_7     float64\n",
      "Uniformity of Cell Shape_8     float64\n",
      "Uniformity of Cell Shape_9     float64\n",
      "                                ...   \n",
      "Bland Chromatin_1              float64\n",
      "Bland Chromatin_10             float64\n",
      "Bland Chromatin_2              float64\n",
      "Bland Chromatin_3              float64\n",
      "Bland Chromatin_4              float64\n",
      "Bland Chromatin_5              float64\n",
      "Bland Chromatin_6              float64\n",
      "Bland Chromatin_7              float64\n",
      "Bland Chromatin_8              float64\n",
      "Bland Chromatin_9              float64\n",
      "Normal Nucleoli_1              float64\n",
      "Normal Nucleoli_10             float64\n",
      "Normal Nucleoli_2              float64\n",
      "Normal Nucleoli_3              float64\n",
      "Normal Nucleoli_4              float64\n",
      "Normal Nucleoli_5              float64\n",
      "Normal Nucleoli_6              float64\n",
      "Normal Nucleoli_7              float64\n",
      "Normal Nucleoli_8              float64\n",
      "Normal Nucleoli_9              float64\n",
      "Mitoses_1                      float64\n",
      "Mitoses_10                     float64\n",
      "Mitoses_2                      float64\n",
      "Mitoses_3                      float64\n",
      "Mitoses_4                      float64\n",
      "Mitoses_5                      float64\n",
      "Mitoses_6                      float64\n",
      "Mitoses_7                      float64\n",
      "Mitoses_8                      float64\n",
      "Class                          float64\n",
      "Length: 90, dtype: object\n"
     ]
    }
   ],
   "source": [
    "print(df.shape, df.columns, df.dtypes, sep=\"\\n\\n\")"
   ]
  },
  {
   "cell_type": "markdown",
   "metadata": {},
   "source": [
    "Разбиваем выборку на две части: 70% данных отводится под обучение алгоритмов, оставшиеся 30% - на тесты. X_train, X_test соответствуют части выборки с нецелевыми признаками, y_train и y_test - с целевым признаком."
   ]
  },
  {
   "cell_type": "code",
   "execution_count": 16,
   "metadata": {},
   "outputs": [],
   "source": [
    "from sklearn.model_selection import train_test_split\n",
    "X, y = df.drop((COLUMNS_NAMES[-1]), axis=1), df[COLUMNS_NAMES[-1]]\n",
    "X_train, X_test, y_train, y_test = train_test_split(X, y, test_size = 0.3, random_state = 11)"
   ]
  },
  {
   "cell_type": "code",
   "execution_count": 17,
   "metadata": {},
   "outputs": [
    {
     "data": {
      "text/plain": [
       "(489, 210)"
      ]
     },
     "execution_count": 17,
     "metadata": {},
     "output_type": "execute_result"
    }
   ],
   "source": [
    "X_train.shape[0], X_test.shape[0]"
   ]
  },
  {
   "cell_type": "markdown",
   "metadata": {},
   "source": [
    "Приводим и обучаем алгоритм метода k ближайших соседей (с количеством соседей, равным 5)."
   ]
  },
  {
   "cell_type": "code",
   "execution_count": 18,
   "metadata": {},
   "outputs": [],
   "source": [
    "from sklearn.neighbors import KNeighborsClassifier\n",
    "knn = KNeighborsClassifier(n_neighbors=5)"
   ]
  },
  {
   "cell_type": "code",
   "execution_count": 19,
   "metadata": {},
   "outputs": [
    {
     "data": {
      "text/plain": [
       "KNeighborsClassifier(algorithm='auto', leaf_size=30, metric='minkowski',\n",
       "           metric_params=None, n_jobs=1, n_neighbors=5, p=2,\n",
       "           weights='uniform')"
      ]
     },
     "execution_count": 19,
     "metadata": {},
     "output_type": "execute_result"
    }
   ],
   "source": [
    "knn.fit(X_train, y_train)"
   ]
  },
  {
   "cell_type": "markdown",
   "metadata": {},
   "source": [
    "Вводим функцию вывода на экран ошибки алгоритма в процентном виде.\n",
    "Предсказываем значения целевого признака на объектах обучающей выборки и тестовой выборки, получаем результат кол-ва ошибок, не превышающий 6.7% на тестовой выборке."
   ]
  },
  {
   "cell_type": "code",
   "execution_count": 20,
   "metadata": {},
   "outputs": [
    {
     "name": "stdout",
     "output_type": "stream",
     "text": [
      "Train data error: 4.294478527607362 %\n",
      "Test data error: 6.666666666666667 %\n"
     ]
    }
   ],
   "source": [
    "def show_errors(train_data_error, test_data_error):\n",
    "    print(\n",
    "        \"Train data error: \" + str(train_data_error*100) + \" %\", \n",
    "        \"Test data error: \" + str(test_data_error*100) + \" %\",\n",
    "        sep=\"\\n\"\n",
    "    )\n",
    "y_train_predicted = knn.predict(X_train)\n",
    "y_test_predicted = knn.predict(X_test)\n",
    "\n",
    "err_train = np.mean(y_train != y_train_predicted)\n",
    "err_test = np.mean(y_test  != y_test_predicted)\n",
    "\n",
    "show_errors(err_train, err_test)"
   ]
  },
  {
   "cell_type": "markdown",
   "metadata": {},
   "source": [
    "Вводим алгоритм выбора набора оптимальных параметров (кол-во соседей) для алгоритма k ближайших соседей. Лучший результат ошибки из всех параметров (целочисленный отрезок [1; 19] за исключением 5) - 4.5% с параметром 4 соседей. "
   ]
  },
  {
   "cell_type": "code",
   "execution_count": 21,
   "metadata": {},
   "outputs": [
    {
     "data": {
      "text/plain": [
       "[1, 2, 3, 4, 6, 7, 8, 9, 10, 11, 12, 13, 14, 15, 16, 17, 18, 19]"
      ]
     },
     "execution_count": 21,
     "metadata": {},
     "output_type": "execute_result"
    }
   ],
   "source": [
    "from sklearn.model_selection import GridSearchCV\n",
    "n_neighbors_list = list(range(1, 20))\n",
    "n_neighbors_list.remove(5)\n",
    "n_neighbors_list"
   ]
  },
  {
   "cell_type": "code",
   "execution_count": 22,
   "metadata": {},
   "outputs": [
    {
     "data": {
      "text/plain": [
       "GridSearchCV(cv=None, error_score='raise',\n",
       "       estimator=KNeighborsClassifier(algorithm='auto', leaf_size=30, metric='minkowski',\n",
       "           metric_params=None, n_jobs=1, n_neighbors=5, p=2,\n",
       "           weights='uniform'),\n",
       "       fit_params=None, iid=True, n_jobs=1,\n",
       "       param_grid={'n_neighbors': [1, 2, 3, 4, 6, 7, 8, 9, 10, 11, 12, 13, 14, 15, 16, 17, 18, 19]},\n",
       "       pre_dispatch='2*n_jobs', refit=True, return_train_score='warn',\n",
       "       scoring=None, verbose=0)"
      ]
     },
     "execution_count": 22,
     "metadata": {},
     "output_type": "execute_result"
    }
   ],
   "source": [
    "knn = KNeighborsClassifier()\n",
    "grid = GridSearchCV(knn, param_grid={'n_neighbors': n_neighbors_list})\n",
    "grid.fit(X_train, y_train)"
   ]
  },
  {
   "cell_type": "code",
   "execution_count": 23,
   "metadata": {},
   "outputs": [
    {
     "data": {
      "text/plain": [
       "(0.04498977505112478, 4)"
      ]
     },
     "execution_count": 23,
     "metadata": {},
     "output_type": "execute_result"
    }
   ],
   "source": [
    "best_cv_err = 1 - grid.best_score_\n",
    "best_n_neighbors = grid.best_estimator_.n_neighbors\n",
    "best_cv_err, best_n_neighbors"
   ]
  },
  {
   "cell_type": "code",
   "execution_count": 24,
   "metadata": {},
   "outputs": [
    {
     "name": "stdout",
     "output_type": "stream",
     "text": [
      "Train data error: 2.8629856850715747 %\n",
      "Test data error: 4.761904761904762 %\n"
     ]
    }
   ],
   "source": [
    "knn = KNeighborsClassifier(n_neighbors=best_n_neighbors)\n",
    "knn.fit(X_train, y_train)\n",
    "\n",
    "err_train = np.mean(y_train != knn.predict(X_train))\n",
    "err_test = np.mean(y_test != knn.predict(X_test))\n",
    "\n",
    "show_errors(err_train, err_test)"
   ]
  },
  {
   "cell_type": "code",
   "execution_count": 25,
   "metadata": {},
   "outputs": [
    {
     "data": {
      "text/plain": [
       "SVC(C=1.0, cache_size=200, class_weight=None, coef0=0.0,\n",
       "  decision_function_shape='ovr', degree=3, gamma='auto', kernel='rbf',\n",
       "  max_iter=-1, probability=False, random_state=None, shrinking=True,\n",
       "  tol=0.001, verbose=False)"
      ]
     },
     "execution_count": 25,
     "metadata": {},
     "output_type": "execute_result"
    }
   ],
   "source": [
    "from sklearn.svm import SVC\n",
    "\n",
    "svc_model = SVC()\n",
    "svc_model.fit(X_train, y_train)"
   ]
  },
  {
   "cell_type": "code",
   "execution_count": 26,
   "metadata": {},
   "outputs": [
    {
     "name": "stdout",
     "output_type": "stream",
     "text": [
      "Train data error: 2.2494887525562373 %\n",
      "Test data error: 2.857142857142857 %\n"
     ]
    }
   ],
   "source": [
    "err_train = np.mean(y_train != svc_model.predict(X_train))\n",
    "err_test = np.mean(y_test != svc_model.predict(X_test))\n",
    "\n",
    "show_errors(err_train, err_test)"
   ]
  },
  {
   "cell_type": "code",
   "execution_count": 27,
   "metadata": {},
   "outputs": [
    {
     "name": "stdout",
     "output_type": "stream",
     "text": [
      "Cross validation error: 3.0674846625766916 %\n",
      "Best C parameter: 1.0\n",
      "Best gamma parameter: 0.01\n"
     ]
    }
   ],
   "source": [
    "c_parameter_array = np.logspace(-3, 3, num=7)\n",
    "gamma_parameter_array = np.logspace(-5, 2, num=8)\n",
    "\n",
    "svc_model = SVC(kernel=\"rbf\")\n",
    "\n",
    "grid = GridSearchCV(\n",
    "    svc_model,\n",
    "    param_grid={\n",
    "        \"C\": c_parameter_array,\n",
    "        \"gamma\": gamma_parameter_array\n",
    "    }\n",
    ")\n",
    "grid.fit(X_train, y_train)\n",
    "\n",
    "best_svc_error = 1 - grid.best_score_\n",
    "best_svc_c = grid.best_estimator_.C\n",
    "best_svc_gamma = grid.best_estimator_.gamma\n",
    "\n",
    "print(\"Cross validation error:\", best_svc_error * 100, \"%\")\n",
    "print(\"Best C parameter:\", best_svc_c)\n",
    "print(\"Best gamma parameter:\", best_svc_gamma)"
   ]
  },
  {
   "cell_type": "code",
   "execution_count": 28,
   "metadata": {},
   "outputs": [
    {
     "name": "stdout",
     "output_type": "stream",
     "text": [
      "Train data error: 2.2494887525562373 %\n",
      "Test data error: 2.857142857142857 %\n"
     ]
    }
   ],
   "source": [
    "svc_model = SVC(\n",
    "    kernel=\"rbf\",\n",
    "    C=best_svc_c,\n",
    "    gamma=best_svc_gamma\n",
    ")\n",
    "\n",
    "svc_model.fit(X_train, y_train)\n",
    "\n",
    "err_train = np.mean(svc_model.predict(X_train) != y_train)\n",
    "err_test = np.mean(svc_model.predict(X_test) != y_test)\n",
    "\n",
    "show_errors(err_train, err_test)"
   ]
  },
  {
   "cell_type": "code",
   "execution_count": 29,
   "metadata": {},
   "outputs": [
    {
     "name": "stdout",
     "output_type": "stream",
     "text": [
      "Train data error: 0.0 %\n",
      "Test data error: 3.3333333333333335 %\n"
     ]
    }
   ],
   "source": [
    "from sklearn import ensemble\n",
    "rf = ensemble.RandomForestClassifier(n_estimators=100, random_state=11)\n",
    "rf.fit(X_train, y_train)\n",
    "\n",
    "err_train = np.mean(y_train != rf.predict(X_train))\n",
    "err_test  = np.mean(y_test  != rf.predict(X_test))\n",
    "\n",
    "show_errors(err_train, err_test)"
   ]
  }
 ],
 "metadata": {
  "kernelspec": {
   "display_name": "Python 3",
   "language": "python",
   "name": "python3"
  },
  "language_info": {
   "codemirror_mode": {
    "name": "ipython",
    "version": 3
   },
   "file_extension": ".py",
   "mimetype": "text/x-python",
   "name": "python",
   "nbconvert_exporter": "python",
   "pygments_lexer": "ipython3",
   "version": "3.6.4"
  }
 },
 "nbformat": 4,
 "nbformat_minor": 2
}
